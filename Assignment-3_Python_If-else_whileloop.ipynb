{
  "cells": [
    {
      "cell_type": "markdown",
      "metadata": {
        "id": "r7riYeZgOd7M"
      },
      "source": [
        "### #Question 1\n",
        "Program which prints the fibonacci series of a number and write the conditions that nos should not be negative."
      ]
    },
    {
      "cell_type": "code",
      "execution_count": 3,
      "metadata": {
        "id": "M9xIs-ZDOzbn",
        "colab": {
          "base_uri": "https://localhost:8080/"
        },
        "outputId": "f3f41a67-b78f-4f20-fce1-238e1c1fae72"
      },
      "outputs": [
        {
          "output_type": "stream",
          "name": "stdout",
          "text": [
            "Enter a non-negative number: -15\n",
            "Please enter a non-negative number.\n",
            "Enter a non-negative number: -20\n",
            "Please enter a non-negative number.\n",
            "Enter a non-negative number: 8\n",
            "Fibonacci series up to 8: [0, 1, 1, 2, 3, 5, 8]\n"
          ]
        }
      ],
      "source": [
        "# numbers = int(input(\"Enter how many numbers you want to display \"))\n",
        "\n",
        "# x = 0\n",
        "# y = 1\n",
        "# c = 2\n",
        "\n",
        "# print(\"Fibonacci Sequence is \")\n",
        "# print(x)\n",
        "# print(y)\n",
        "\n",
        "# while c<numbers:\n",
        "#   z = x+y\n",
        "#   print(z)\n",
        "#   x = y\n",
        "#   y = z\n",
        "#   c+=1\n",
        "\n",
        "\n",
        "# Function to generate Fibonacci series\n",
        "def fibonacci_series(n):\n",
        "    fib_series = []\n",
        "    a, b = 0, 1\n",
        "\n",
        "    while a <= n:\n",
        "        fib_series.append(a)\n",
        "        a, b = b, a + b\n",
        "\n",
        "    return fib_series\n",
        "\n",
        "# Input a non-negative number\n",
        "while True:\n",
        "    try:\n",
        "        num = int(input(\"Enter a non-negative number: \"))\n",
        "        if num < 0:\n",
        "            print(\"Please enter a non-negative number.\")\n",
        "        else:\n",
        "            break\n",
        "    except ValueError:\n",
        "        print(\"Invalid input. Please enter a valid integer.\")\n",
        "\n",
        "# Print Fibonacci series up to the given number\n",
        "result = fibonacci_series(num)\n",
        "print(f\"Fibonacci series up to {num}: {result}\")\n"
      ]
    },
    {
      "cell_type": "markdown",
      "metadata": {
        "id": "c4qwfB1aO8GA"
      },
      "source": [
        "### #Question 2\n",
        "Program that finds the distance between 2 points (x1  , y1) and (x2 , y2) using equation formula."
      ]
    },
    {
      "cell_type": "code",
      "execution_count": null,
      "metadata": {
        "id": "ZxrnbsqxPdrt",
        "colab": {
          "base_uri": "https://localhost:8080/"
        },
        "outputId": "4e77df9d-51c1-4074-c28f-d40a3062828c"
      },
      "outputs": [
        {
          "output_type": "stream",
          "name": "stdout",
          "text": [
            "Enter x-coordinate of the first point = 15\n",
            "Enter y-coordinate of the first point = 12\n",
            "Enter x-coordinate of the second point = 24\n",
            "Enter y-coordinate of the second point = 31\n",
            "The distance between two points are :  21.02379604162864\n"
          ]
        }
      ],
      "source": [
        "import math\n",
        "\n",
        "x1 = int(input(\"Enter x-coordinate of the first point = \"))\n",
        "y1 = int(input(\"Enter y-coordinate of the first point = \"))\n",
        "x2 = int(input(\"Enter x-coordinate of the second point = \"))\n",
        "y2 = int(input(\"Enter y-coordinate of the second point = \"))\n",
        "\n",
        "#Equation formula to find the distance\n",
        "\n",
        "distance = math.sqrt((x2-x1)**2 + (y2-y1)**2)\n",
        "\n",
        "print(\"The distance between two points are : \", distance)"
      ]
    },
    {
      "cell_type": "markdown",
      "metadata": {
        "id": "xQElApJYPeYt"
      },
      "source": [
        "#Question 3\n",
        "Program to find the best of two test avearage marks out of three and  test's marks is accepted from the user."
      ]
    },
    {
      "cell_type": "code",
      "execution_count": null,
      "metadata": {
        "id": "1o6pVWaAPmkQ",
        "colab": {
          "base_uri": "https://localhost:8080/"
        },
        "outputId": "bd0208fd-ecb9-49fa-f872-df4b5c002d1c"
      },
      "outputs": [
        {
          "output_type": "stream",
          "name": "stdout",
          "text": [
            "Enter the first test marks = 56\n",
            "Enter the second test marks = 25\n",
            "Enter the third test marks = 41\n",
            "Minimum test score:  25\n",
            "Average of the two test marks is:  48.5\n"
          ]
        }
      ],
      "source": [
        "Test_1 = int(input(\"Enter the first test marks = \"))\n",
        "Test_2 = int(input(\"Enter the second test marks = \"))\n",
        "Test_3 = int(input(\"Enter the third test marks = \"))\n",
        "\n",
        "min_score = min(Test_1, Test_2, Test_3)\n",
        "print(\"Minimum test score: \", min_score)\n",
        "\n",
        "# if Test_1 <= Test_2 and Test_1 <= Test_3:\n",
        "#   min_score= Test_1\n",
        "\n",
        "# elif Test_2 <= Test_1 and Test_2 <= Test_3:\n",
        "#   min_score = Test_2\n",
        "\n",
        "# else:\n",
        "#   min_score = Test_3\n",
        "\n",
        "Average = (Test_1 + Test_2 + Test_3 - min_score)/2\n",
        "\n",
        "print(\"Average of the two test marks is: \", Average)\n",
        "\n"
      ]
    },
    {
      "cell_type": "code",
      "source": [
        "t1 = 45\n",
        "t2 = 25\n",
        "t3 = 63"
      ],
      "metadata": {
        "id": "uXLaMSvjdort"
      },
      "execution_count": null,
      "outputs": []
    },
    {
      "cell_type": "markdown",
      "metadata": {
        "id": "e8BXltnhPoZj"
      },
      "source": [
        "#Question 4\n",
        "Program to find the area of triangle and perimeter of triangle."
      ]
    },
    {
      "cell_type": "code",
      "execution_count": null,
      "metadata": {
        "colab": {
          "base_uri": "https://localhost:8080/"
        },
        "id": "1GZug7JGPxD_",
        "outputId": "ccffeab4-a7f3-4917-c100-c494b8442627"
      },
      "outputs": [
        {
          "name": "stdout",
          "output_type": "stream",
          "text": [
            "Enter the height of a triangle: 12\n",
            "Enter the base of a triangle: 13\n",
            "Enter the first side of the triangle: 5\n",
            "Enter the second side of a triangle: 4\n",
            "Enter the third side of a triangle: 3\n",
            "The area of triangle is =  78.0\n",
            "The perimeter of a triangle is =  12\n"
          ]
        }
      ],
      "source": [
        "height = float(input(\"Enter the height of a triangle: \"))\n",
        "base = float(input('Enter the base of a triangle: '))\n",
        "side1 = int(input('Enter the first side of the triangle: '))\n",
        "side2 = int(input('Enter the second side of a triangle: '))\n",
        "side3 = int(input('Enter the third side of a triangle: '))\n",
        "\n",
        "Area = 0.5*base*height\n",
        "print(\"The area of triangle is = \", Area)\n",
        "\n",
        "Perimeter = side1 + side2 + side3\n",
        "print(\"The perimeter of a triangle is = \", Perimeter)"
      ]
    },
    {
      "cell_type": "markdown",
      "metadata": {
        "id": "nROBw8m6PxkH"
      },
      "source": [
        "#Question 5\n",
        "Program to swap the two variables without using the third variable."
      ]
    },
    {
      "cell_type": "code",
      "execution_count": null,
      "metadata": {
        "colab": {
          "base_uri": "https://localhost:8080/"
        },
        "id": "m-nNmPkmP5LL",
        "outputId": "b4c20bbc-d7d4-4f9c-a715-68f34f949a6d"
      },
      "outputs": [
        {
          "name": "stdout",
          "output_type": "stream",
          "text": [
            "Enter the value of a 4\n",
            "Enter the value of b 5\n",
            "After swapping the values of a and b are:  5 4\n"
          ]
        }
      ],
      "source": [
        "a = int(input(\"Enter the value of a \"))\n",
        "b = int(input(\"Enter the value of b \"))\n",
        "\n",
        "#Swapping concept without using third variable\n",
        "a = a + b\n",
        "b = a - b\n",
        "a = a - b\n",
        "\n",
        "print (\"After swapping the values of a and b are: \", a, b)"
      ]
    },
    {
      "cell_type": "markdown",
      "metadata": {
        "id": "rc1vhgXPP6Gx"
      },
      "source": [
        "### #Question 6\n",
        "Write a python program to add two nos which is integer datatype and its result should be displayed as floating datatype."
      ]
    },
    {
      "cell_type": "code",
      "execution_count": null,
      "metadata": {
        "colab": {
          "base_uri": "https://localhost:8080/"
        },
        "id": "bF0bjTCUQJgH",
        "outputId": "9956e581-7376-453f-d312-8a11e66a664d"
      },
      "outputs": [
        {
          "name": "stdout",
          "output_type": "stream",
          "text": [
            "Enter the first integer 36\n",
            "Enter the second integer 48\n",
            "The final result is storing in floting datatype which is given below-\n",
            "The addition of both integer numbers are:  84.0\n"
          ]
        }
      ],
      "source": [
        "num1 = int(input(\"Enter the first integer \"))\n",
        "num2 = int(input(\"Enter the second integer \"))\n",
        "\n",
        "sum = num1 + num2\n",
        "\n",
        "print(\"The final result is storing in floting datatype which is given below-\")\n",
        "print(\"The addition of both integer numbers are: \", float(sum))"
      ]
    },
    {
      "cell_type": "markdown",
      "metadata": {
        "id": "s_0YpdLxQKYD"
      },
      "source": [
        "### #Question 7\n",
        "Program to generate student Result . Accept marks of five subject and display the result according to following conditions:-\n",
        "\n",
        "Percentage     Division\n",
        "##### >=75             First Class with Distinction\n",
        "##### >=60 and <75     First Class\n",
        "##### >=45 and <60     Second Class\n",
        "##### >=40 and <45     Pass\n",
        "##### <40              FAIL"
      ]
    },
    {
      "cell_type": "code",
      "execution_count": null,
      "metadata": {
        "colab": {
          "base_uri": "https://localhost:8080/"
        },
        "id": "lmqLrUCpQURl",
        "outputId": "a8871ce9-1a4c-4f90-c421-9df6343c45a9"
      },
      "outputs": [
        {
          "name": "stdout",
          "output_type": "stream",
          "text": [
            "Here, we have displayed the marks of five subjects for student which is Maths, English, Physics, Chemistry, and Computer\n",
            "\n",
            "Maths score = 85\n",
            "English score = 82\n",
            "Physics score = 75\n",
            "Chemistry score = 79\n",
            "Computer score = 96\n",
            "Aggregated marks of all subjects:  417\n",
            "Toal percentage of aggregated marks:  83.39999999999999\n",
            "Division: Passed in first class with distinction\n"
          ]
        }
      ],
      "source": [
        "print(\"Here, we have displayed the marks of five subjects for student which is Maths, English, Physics, Chemistry, and Computer\\n\")\n",
        "\n",
        "Maths = int(input(\"Maths score = \"))\n",
        "English = int(input(\"English score = \"))\n",
        "Physics = int(input(\"Physics score = \"))\n",
        "Chemistry = int(input(\"Chemistry score = \"))\n",
        "Computer = int(input(\"Computer score = \"))\n",
        "\n",
        "Total_marks = Maths + English + Physics + Chemistry + Computer\n",
        "print(\"Aggregated marks of all subjects: \", Total_marks)\n",
        "\n",
        "Percentage = (Total_marks/500)*100\n",
        "print(\"Toal percentage of aggregated marks: \", Percentage)\n",
        "\n",
        "if Percentage>=75:\n",
        "  print(\"Division: Passed in first class with distinction\")\n",
        "\n",
        "elif Percentage>=60 and Percentage<75:\n",
        "  print(\"Division: Passed in first class\")\n",
        "\n",
        "elif Percentage>=45 and Percentage<60:\n",
        "  print(\"Division: Passed in second class\")\n",
        "\n",
        "elif Percentage>=40 and Percentage<45:\n",
        "  print(\"Division: Pass\")\n",
        "\n",
        "else:\n",
        "  print(\"Division: Fail\")"
      ]
    },
    {
      "cell_type": "markdown",
      "metadata": {
        "id": "UrkPSQEcRDsz"
      },
      "source": [
        "### #Question 8\n",
        "Program to print the following pattern\n",
        "\n",
        "##### *\n",
        "##### * *\n",
        "##### * * *\n",
        "##### * * * *"
      ]
    },
    {
      "cell_type": "code",
      "execution_count": null,
      "metadata": {
        "colab": {
          "base_uri": "https://localhost:8080/"
        },
        "id": "dMlsDqmOQkBP",
        "outputId": "2fae8e2f-396c-4f33-c085-60084072b407"
      },
      "outputs": [
        {
          "name": "stdout",
          "output_type": "stream",
          "text": [
            "* \n",
            "\n",
            "* * \n",
            "\n",
            "* * * \n",
            "\n",
            "* * * * \n",
            "\n"
          ]
        }
      ],
      "source": [
        "i=1\n",
        "while i<=4:\n",
        "  j=1\n",
        "  while j<=i:\n",
        "    print(\"*\", end = \" \")\n",
        "    j+=1\n",
        "  print()\n",
        "  print()\n",
        "  i+=1\n"
      ]
    },
    {
      "cell_type": "markdown",
      "metadata": {
        "id": "VZYZNKvmRTSz"
      },
      "source": [
        "### #Question 9\n",
        "Program to print the table of 6 I want O/P as in given format\n",
        "##### 6 * 1 = 6\n",
        "##### 6 * 2 = 12\n",
        "##### 6 * 3 = 18\n",
        "##### .\n",
        "##### .\n",
        "##### .\n",
        "##### .\n",
        "##### 6 * 10 = 60\n"
      ]
    },
    {
      "cell_type": "code",
      "execution_count": null,
      "metadata": {
        "colab": {
          "base_uri": "https://localhost:8080/"
        },
        "id": "aw-wNKYURo5n",
        "outputId": "1819f5ad-0dbb-403d-c806-8999f33c06e8"
      },
      "outputs": [
        {
          "output_type": "stream",
          "name": "stdout",
          "text": [
            "6 * 1 =  6\n",
            "6 * 2 =  12\n",
            "6 * 3 =  18\n",
            "6 * 4 =  24\n",
            "6 * 5 =  30\n",
            "6 * 6 =  36\n",
            "6 * 7 =  42\n",
            "6 * 8 =  48\n",
            "6 * 9 =  54\n",
            "6 * 10 =  60\n"
          ]
        }
      ],
      "source": [
        "number = 6\n",
        "i = 1\n",
        "\n",
        "while i<=10:\n",
        "  result = number * i\n",
        "  print(f\"{number} * {i} = \", result)\n",
        "  i+=1\n"
      ]
    },
    {
      "cell_type": "markdown",
      "metadata": {
        "id": "tW-ijR4LRqsS"
      },
      "source": [
        "### #Question 10\n",
        "Program which accpets 5 integers values and print \"DUPLICATES\" if any of the values entered are repeated otherwise it prints\n",
        "##### \"ALL UNIQUE\" . Let 5 integers are (32 , 45 , 90 ,45 ,6 )\n",
        "##### Now you can see dupliactes is 45 and uniques are 32 , 90 , 6 so my output should be in below format\n",
        "##### DUPLICATE : 45\n",
        "##### UNIQUE : 32\n",
        "##### UNIQUE : 90\n",
        "##### UNIQUE  : 6"
      ]
    },
    {
      "cell_type": "code",
      "execution_count": 5,
      "metadata": {
        "id": "mvlK1RoLR7Sr",
        "colab": {
          "base_uri": "https://localhost:8080/"
        },
        "outputId": "4364eaf0-1410-4dce-f89b-31860c698506"
      },
      "outputs": [
        {
          "output_type": "stream",
          "name": "stdout",
          "text": [
            "Enter integer value 1: 32\n",
            "UNIQUE: 32\n",
            "Enter integer value 2: 45\n",
            "UNIQUE: 45\n",
            "Enter integer value 3: 90\n",
            "UNIQUE: 90\n",
            "Enter integer value 4: 45\n",
            "DUPLICATE: 45\n",
            "Enter integer value 4: 6\n",
            "UNIQUE: 6\n",
            "Enter integer value 5: 32\n",
            "DUPLICATE: 32\n",
            "Enter integer value 5: 90\n",
            "DUPLICATE: 90\n",
            "Enter integer value 5: 45\n",
            "DUPLICATE: 45\n",
            "Enter integer value 5: 12\n",
            "UNIQUE: 12\n"
          ]
        }
      ],
      "source": [
        "# Accepting 5 integer values from the user\n",
        "values = []\n",
        "i = 0\n",
        "\n",
        "while i < 5:\n",
        "    value = int(input(f\"Enter integer value {i+1}: \"))\n",
        "\n",
        "    if value in values:\n",
        "        print(f\"DUPLICATE: {value}\")\n",
        "    else:\n",
        "        print(f\"UNIQUE: {value}\")\n",
        "        values.append(value)\n",
        "        i += 1"
      ]
    }
  ],
  "metadata": {
    "colab": {
      "provenance": []
    },
    "kernelspec": {
      "display_name": "Python 3",
      "name": "python3"
    },
    "language_info": {
      "name": "python"
    }
  },
  "nbformat": 4,
  "nbformat_minor": 0
}