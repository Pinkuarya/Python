{
  "nbformat": 4,
  "nbformat_minor": 0,
  "metadata": {
    "colab": {
      "provenance": []
    },
    "kernelspec": {
      "name": "python3",
      "display_name": "Python 3"
    },
    "language_info": {
      "name": "python"
    }
  },
  "cells": [
    {
      "cell_type": "markdown",
      "source": [
        "### #Question-1\n",
        "Create five Numbers  Variables and Assign Some Values in it and display the Output of  that Variables"
      ],
      "metadata": {
        "id": "XTQ8P1eN3tnR"
      }
    },
    {
      "cell_type": "code",
      "source": [
        "a = 10\n",
        "b = 20\n",
        "c = 30\n",
        "d = 40\n",
        "e = 50\n",
        "\n",
        "print (\"The output of all variables are as follows: \")\n",
        "print ('a =', a, 'b =', b, 'c =', c, 'd =', d, 'e =', e)"
      ],
      "metadata": {
        "colab": {
          "base_uri": "https://localhost:8080/"
        },
        "id": "s1wpwyIV31az",
        "outputId": "2f09f6f4-d781-4c69-84fd-e1485b72a8d4"
      },
      "execution_count": 5,
      "outputs": [
        {
          "output_type": "stream",
          "name": "stdout",
          "text": [
            "The output of all variables are as follows: \n",
            "a = 10 b = 20 c = 30 d = 40 e = 50\n"
          ]
        }
      ]
    },
    {
      "cell_type": "markdown",
      "source": [
        "### #Question-2\n",
        "Create Five String Variables and Assigns Some Values in it and display the Output of that Variables"
      ],
      "metadata": {
        "id": "Nrm_MQtR35Fd"
      }
    },
    {
      "cell_type": "code",
      "source": [
        "Greeting = \"Good Evening!\"\n",
        "Intro = \"My Name is Priyanka Arya.\"\n",
        "City = \" I am from Gwalior, Madhya Pradesh.\"\n",
        "Occupation = \"I am a Researcher.\"\n",
        "Experience = \"I have 5.5 Years of Working Experience.\"\n",
        "\n",
        "print(Greeting, Intro, City, Occupation, Experience)"
      ],
      "metadata": {
        "colab": {
          "base_uri": "https://localhost:8080/"
        },
        "id": "dRaBac1T371A",
        "outputId": "4ab14f37-a023-4324-a3c6-9b08258e6933"
      },
      "execution_count": 6,
      "outputs": [
        {
          "output_type": "stream",
          "name": "stdout",
          "text": [
            "Good Evening! My Name is Priyanka Arya.  I am from Gwalior, Madhya Pradesh. I am a Researcher. I have 5.5 Years of Working Experience.\n"
          ]
        }
      ]
    },
    {
      "cell_type": "markdown",
      "source": [
        "### #Question-3\n",
        "Store Days of the week  in One Variable"
      ],
      "metadata": {
        "id": "TepA47QP4AnR"
      }
    },
    {
      "cell_type": "code",
      "source": [
        "# S = \"Sunday\"\n",
        "# M = \"Monday\"\n",
        "# T = \"Tuesday\"\n",
        "# W = \"Wednesday\"\n",
        "# Th = \"Thursday\"\n",
        "# F = \"Friday\"\n",
        "# Sa = \"Saturday\"\n",
        "\n",
        "#Week_days = S, M, T, W, Th, F, Sa\n",
        "\n",
        "Week_days = 'Sunday', 'Monday', 'Tuesday', 'Wednesday', 'Thursday', 'Friday', 'Saturday'\n",
        "print ('The Week days are:', Week_days)\n",
        "print (type(Week_days))"
      ],
      "metadata": {
        "colab": {
          "base_uri": "https://localhost:8080/"
        },
        "id": "lzl2TcEL4Dom",
        "outputId": "d0d42e0a-f255-4530-85e7-1671cdd4a531"
      },
      "execution_count": 7,
      "outputs": [
        {
          "output_type": "stream",
          "name": "stdout",
          "text": [
            "The Week days are: ('Sunday', 'Monday', 'Tuesday', 'Wednesday', 'Thursday', 'Friday', 'Saturday')\n",
            "<class 'tuple'>\n"
          ]
        }
      ]
    },
    {
      "cell_type": "markdown",
      "source": [
        "### #Question-4\n",
        "Store at least 10  Floating point Number in one Variable"
      ],
      "metadata": {
        "id": "IQa0CNSx4JCb"
      }
    },
    {
      "cell_type": "code",
      "source": [
        "Floting_nos = 1.5, 3.7, 8.9, 5.2, 44.0, 6.2, 4.8, 8.5, 77.9, 22.8\n",
        "\n",
        "print (Floting_nos)\n",
        "\n",
        "print (type(Floting_nos))"
      ],
      "metadata": {
        "colab": {
          "base_uri": "https://localhost:8080/"
        },
        "id": "zZq2nacQ4MlS",
        "outputId": "19483d01-ed59-4285-a72c-28a022d6eaad"
      },
      "execution_count": 8,
      "outputs": [
        {
          "output_type": "stream",
          "name": "stdout",
          "text": [
            "(1.5, 3.7, 8.9, 5.2, 44.0, 6.2, 4.8, 8.5, 77.9, 22.8)\n",
            "<class 'tuple'>\n"
          ]
        }
      ]
    },
    {
      "cell_type": "markdown",
      "source": [
        "### #Question-5\n",
        "Create a Dictionary to store the data of Square of the Given Nos upto 10"
      ],
      "metadata": {
        "id": "_NK1gAP24Xzi"
      }
    },
    {
      "cell_type": "code",
      "source": [
        "Data_Dictionary = {1:1*1, 2:2*2, 3:3*3, 4:4*4, 5:5*5, 6:6*6, 7:7*7, 8:8*8, 9:9*9, 10:10*10}\n",
        "\n",
        "print(\"Square of the given numbers upto 10 =\", Data_Dictionary)"
      ],
      "metadata": {
        "colab": {
          "base_uri": "https://localhost:8080/"
        },
        "id": "tPEoxhUZ4dm8",
        "outputId": "62796f41-ae4e-44d7-a1c1-88dd4d0ef4f4"
      },
      "execution_count": 32,
      "outputs": [
        {
          "output_type": "stream",
          "name": "stdout",
          "text": [
            "Square of the given numbers upto 10 = {1: 1, 2: 4, 3: 9, 4: 16, 5: 25, 6: 36, 7: 49, 8: 64, 9: 81, 10: 100}\n"
          ]
        }
      ]
    },
    {
      "cell_type": "markdown",
      "source": [
        "### #Question-6\n",
        "Create Five SET Variables and Assigns Some Values in it and display the Output of that Variables"
      ],
      "metadata": {
        "id": "3JCMb2sg4gwd"
      }
    },
    {
      "cell_type": "code",
      "source": [
        "p = 100\n",
        "q = 200\n",
        "r = 200\n",
        "s = 400\n",
        "t = 400\n",
        "set_values = {p,q,r,s,t}\n",
        "\n",
        "print ('Output of the given variables:', set_values)"
      ],
      "metadata": {
        "id": "KyRHlWdS4kX7"
      },
      "execution_count": null,
      "outputs": []
    },
    {
      "cell_type": "markdown",
      "source": [
        "### #Question-7\n",
        "Create Five Tuples Variables and Assigns Some Values in it and display the Output of that Variables"
      ],
      "metadata": {
        "id": "BnULDUSy4neM"
      }
    },
    {
      "cell_type": "code",
      "source": [
        "tuple_var1 = (15,30)\n",
        "tuple_var2 = (16,32,48)\n",
        "tuple_var3 = (17,34,51,68)\n",
        "tuple_var4 = (18,36,54,72)\n",
        "tuple_var5 = (19,38,57,76,95,114)\n",
        "\n",
        "print('Output of the above-mentioned variables :-', tuple_var1, tuple_var2, tuple_var3, tuple_var4, tuple_var5)"
      ],
      "metadata": {
        "colab": {
          "base_uri": "https://localhost:8080/"
        },
        "id": "79i3VHCQ4qor",
        "outputId": "5530a80a-c1e5-4803-eaa2-f6c40bd5ffc5"
      },
      "execution_count": 26,
      "outputs": [
        {
          "output_type": "stream",
          "name": "stdout",
          "text": [
            "Output of the above-mentioned variables :- (15, 30) (16, 32, 48) (17, 34, 51, 68) (18, 36, 54, 72) (19, 38, 57, 76, 95, 114)\n"
          ]
        }
      ]
    },
    {
      "cell_type": "markdown",
      "source": [
        "### #Question-8\n",
        "a = 72e3\n",
        "What is the meaning of a ?"
      ],
      "metadata": {
        "id": "LhIr83hs4uYT"
      }
    },
    {
      "cell_type": "code",
      "source": [
        "a = 72e3\n",
        "\n",
        "print(\"Value of a =\", a)"
      ],
      "metadata": {
        "colab": {
          "base_uri": "https://localhost:8080/"
        },
        "id": "uH3a2ED54wud",
        "outputId": "efc3c2a7-307d-4068-e62c-64723f60a793"
      },
      "execution_count": 23,
      "outputs": [
        {
          "output_type": "stream",
          "name": "stdout",
          "text": [
            "Value of a = 72000.0\n"
          ]
        }
      ]
    },
    {
      "cell_type": "markdown",
      "source": [
        "### #Question-9\n",
        "b = 72e-5\n",
        "What is the meaning of b ?"
      ],
      "metadata": {
        "id": "ifWuiqeN4xs3"
      }
    },
    {
      "cell_type": "code",
      "source": [
        "b = 72e-5\n",
        "\n",
        "print(\"Value of b =\", b)"
      ],
      "metadata": {
        "colab": {
          "base_uri": "https://localhost:8080/"
        },
        "id": "qbpTSPct41eC",
        "outputId": "16a07756-4971-4051-d69b-8b7f91d69fbd"
      },
      "execution_count": 22,
      "outputs": [
        {
          "output_type": "stream",
          "name": "stdout",
          "text": [
            "Value of b = 0.00072\n"
          ]
        }
      ]
    },
    {
      "cell_type": "markdown",
      "source": [
        "### #Question-10\n",
        "Create Five different data types of variables and Show the type of the variable:-"
      ],
      "metadata": {
        "id": "Y-fCDUN-42Ro"
      }
    },
    {
      "cell_type": "code",
      "source": [
        "var1 = (15,3,4,5)\n",
        "var2 = {12,14,45,56}\n",
        "var3 = {'item' : 'Laptop', 'company' : 'HP'}\n",
        "var4 = 10\n",
        "var5 = 'Hello'\n",
        "# var6 = 0.5\n",
        "# var7 = 5+9j\n",
        "\n",
        "print(\"Output of var1 = \", var1, \"Output of var2 = \", var2, \"Output of var3 = \", var3, \"Output of var4 = \", var4, \" and Output of var5 = \", var5)\n",
        "\n",
        "print(type(var1))\n",
        "print(type(var2))\n",
        "print(type(var3))\n",
        "print(type(var4))\n",
        "print(type(var5))\n",
        "# print(type(var6))\n",
        "# print(type(var7))"
      ],
      "metadata": {
        "colab": {
          "base_uri": "https://localhost:8080/"
        },
        "id": "vFBGWpT046o6",
        "outputId": "65f58545-ae64-403b-c12b-70c1732ae608"
      },
      "execution_count": 17,
      "outputs": [
        {
          "output_type": "stream",
          "name": "stdout",
          "text": [
            "Output of var1 =  (15, 3, 4, 5) Output of var2 =  {56, 12, 45, 14} Output of var3 =  {'item': 'Laptop', 'company': 'HP'} Output of var4 =  10  and Output of var5 =  Hello\n",
            "<class 'tuple'>\n",
            "<class 'set'>\n",
            "<class 'dict'>\n",
            "<class 'int'>\n",
            "<class 'str'>\n"
          ]
        }
      ]
    }
  ]
}