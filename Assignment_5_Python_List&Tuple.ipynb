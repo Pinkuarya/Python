{
  "nbformat": 4,
  "nbformat_minor": 0,
  "metadata": {
    "colab": {
      "provenance": []
    },
    "kernelspec": {
      "name": "python3",
      "display_name": "Python 3"
    },
    "language_info": {
      "name": "python"
    }
  },
  "cells": [
    {
      "cell_type": "markdown",
      "source": [
        "#### 1) Program to create a tuple with numbers and print one item\n"
      ],
      "metadata": {
        "id": "CakW12a5DY_x"
      }
    },
    {
      "cell_type": "code",
      "source": [
        "Tuple = (10, 20, 30, 40, 50, 60, 70, 80, 90, 20)\n",
        "\n",
        "print(Tuple[5])\n"
      ],
      "metadata": {
        "id": "LopZVD69Disb",
        "colab": {
          "base_uri": "https://localhost:8080/"
        },
        "outputId": "3f326fdf-43d7-40c3-c694-94d2198d9337"
      },
      "execution_count": null,
      "outputs": [
        {
          "output_type": "stream",
          "name": "stdout",
          "text": [
            "60\n"
          ]
        }
      ]
    },
    {
      "cell_type": "markdown",
      "source": [
        "#### 2) Program to unpack a tuple in several variables\n"
      ],
      "metadata": {
        "id": "BSRRRX_hDnJZ"
      }
    },
    {
      "cell_type": "code",
      "source": [
        "Items = (1, 2, 3.14, 44.25, \"coachx\", 'x', \"tuple\", 'n')\n",
        "I1, I2, I3, I4, I5, I6, I7, I8 = Items\n",
        "\n",
        "print(\"Item_1: \", I1)\n",
        "print(\"Item_2: \", I2)\n",
        "print(\"Item_3: \", I3)\n",
        "print(\"Item_4: \", I4)\n",
        "print(\"Item_5: \", I5)\n",
        "print(\"Item_6: \", I6)\n",
        "print(\"Item_7: \", I7)\n",
        "print(\"Item_8: \", I8)\n"
      ],
      "metadata": {
        "id": "WlBMH9rWDp1o",
        "colab": {
          "base_uri": "https://localhost:8080/"
        },
        "outputId": "49dfd4e6-57de-49a1-b79d-a0259c423386"
      },
      "execution_count": null,
      "outputs": [
        {
          "output_type": "stream",
          "name": "stdout",
          "text": [
            "Item_1:  1\n",
            "Item_2:  2\n",
            "Item_3:  3.14\n",
            "Item_4:  44.25\n",
            "Item_5:  coachx\n",
            "Item_6:  x\n",
            "Item_7:  tuple\n",
            "Item_8:  n\n"
          ]
        }
      ]
    },
    {
      "cell_type": "markdown",
      "source": [
        "#### 3) Write a program to add an item in a tuple\n"
      ],
      "metadata": {
        "id": "D2lE4hnRDrkx"
      }
    },
    {
      "cell_type": "code",
      "source": [
        "T1 = ('a', 'b', 9, 4, 1, 9, 9, 8, \"priyanka\")\n",
        "\n",
        "print(\"Original tuple: \", T1)\n",
        "\n",
        "T1 = T1 + (\"arya\",)\n",
        "\n",
        "print(\"Updated tuple after add an item: \", T1)\n"
      ],
      "metadata": {
        "id": "uAT-UiOXDxy6",
        "colab": {
          "base_uri": "https://localhost:8080/"
        },
        "outputId": "a7c8448e-e8c5-4f5b-e56c-e089eb4845ff"
      },
      "execution_count": null,
      "outputs": [
        {
          "output_type": "stream",
          "name": "stdout",
          "text": [
            "Original tuple:  ('a', 'b', 9, 4, 1, 9, 9, 8, 'priyanka')\n",
            "Updated tuple after add an item:  ('a', 'b', 9, 4, 1, 9, 9, 8, 'priyanka', 'arya')\n"
          ]
        }
      ]
    },
    {
      "cell_type": "markdown",
      "source": [
        "#### 4) Write a Program to find the repeated items in the tuple\n"
      ],
      "metadata": {
        "id": "xq234QEoDyPp"
      }
    },
    {
      "cell_type": "code",
      "source": [
        "tup_le = (0,1,1,2,3,5,8,21,13,21,34,5,5)\n",
        "\n",
        "print(\"My tuple is = \", tup_le)\n",
        "\n",
        "print(\"Repeated items in my tuple are given below...\")\n",
        "\n",
        "for rept_items in tup_le:\n",
        "\n",
        "  if tup_le.count(rept_items)>1:\n",
        "\n",
        "    print(rept_items)\n",
        "\n"
      ],
      "metadata": {
        "id": "RsN4hjsJD0p_",
        "colab": {
          "base_uri": "https://localhost:8080/"
        },
        "outputId": "fb142413-5b04-4b62-f97c-430a8da356df"
      },
      "execution_count": null,
      "outputs": [
        {
          "output_type": "stream",
          "name": "stdout",
          "text": [
            "My tuple is =  (0, 1, 1, 2, 3, 5, 8, 21, 13, 21, 34, 5, 5)\n",
            "Repeated items are given below...\n",
            "1\n",
            "1\n",
            "5\n",
            "21\n",
            "21\n",
            "5\n",
            "5\n"
          ]
        }
      ]
    },
    {
      "cell_type": "markdown",
      "source": [
        "#### 5) Create a tuple sequance from 1 to 10 and sperate even and odd nos from it\n"
      ],
      "metadata": {
        "id": "Nq9ls2QGD1CZ"
      }
    },
    {
      "cell_type": "code",
      "source": [
        "my_tuple = (1,2,3,4,5,6,7,8,9,10)\n",
        "\n",
        "print(\"My tuple is: \", my_tuple)\n",
        "\n",
        "for i in my_tuple:\n",
        "  if i%2==0:\n",
        "    print( i, \"is even number\")\n",
        "  else:\n",
        "    print(i, \"is odd number\")"
      ],
      "metadata": {
        "id": "HWCmuIkiD4zp",
        "colab": {
          "base_uri": "https://localhost:8080/"
        },
        "outputId": "91baf089-316c-41ed-ecdc-e0035398f205"
      },
      "execution_count": null,
      "outputs": [
        {
          "output_type": "stream",
          "name": "stdout",
          "text": [
            "My tuple is:  (1, 2, 3, 4, 5, 6, 7, 8, 9, 10)\n",
            "1 is odd number\n",
            "2 is even number\n",
            "3 is odd number\n",
            "4 is even number\n",
            "5 is odd number\n",
            "6 is even number\n",
            "7 is odd number\n",
            "8 is even number\n",
            "9 is odd number\n",
            "10 is even number\n"
          ]
        }
      ]
    },
    {
      "cell_type": "markdown",
      "source": [
        "#### 6) Which of the following would give an error?\n",
        "##### A. list1=[]\n",
        "##### B. list1=[]*3\n",
        "##### C. list1=[2,8,7]\n",
        "##### D. None of the above"
      ],
      "metadata": {
        "id": "JfiKRjyfEB2U"
      }
    },
    {
      "cell_type": "markdown",
      "source": [
        "####Answer- (D) None of the above"
      ],
      "metadata": {
        "id": "ernKwgD6EKrC"
      }
    },
    {
      "cell_type": "markdown",
      "source": [
        "#### 7) Which of the following is True regarding lists in Python?\n",
        "##### A. Lists are immutable.\n",
        "##### B. Size of the lists must be specified before its initialization\n",
        "##### C. Elements of lists are stored in contagious memory location.\n",
        "##### D. size(list1) command is used to find the size of lists.\n"
      ],
      "metadata": {
        "id": "aEOl7YgdEQC7"
      }
    },
    {
      "cell_type": "markdown",
      "source": [
        "####Answer- (C) Elements of lists are stored in contagious memory location.\n"
      ],
      "metadata": {
        "id": "39AHPXsFEbYN"
      }
    },
    {
      "cell_type": "markdown",
      "source": [
        "#### 8) What will be the output of below Python code?"
      ],
      "metadata": {
        "id": "65FU0_atEePg"
      }
    },
    {
      "cell_type": "code",
      "source": [
        "# list1=[8,0,9,5]\n",
        "\n",
        "# print(list1[::-1])\n"
      ],
      "metadata": {
        "id": "yXPZt8SfEm4q"
      },
      "execution_count": null,
      "outputs": []
    },
    {
      "cell_type": "markdown",
      "source": [
        "#### Options:-\n",
        "##### A. [5,9,0,8]\n",
        "##### B. [8,0,9]\n",
        "##### C. [8,0,9,5]\n",
        "##### D. [0,9,5]"
      ],
      "metadata": {
        "id": "kgCR0kvCEoNy"
      }
    },
    {
      "cell_type": "markdown",
      "source": [
        "####Answer- (A) [5,9,0,8]\n"
      ],
      "metadata": {
        "id": "0h-gQjHgExFM"
      }
    },
    {
      "cell_type": "markdown",
      "source": [
        "#### 9) Which of the following will give output as [23,2,9,75] ?\n",
        "\n",
        "#### If list1=[6,23,3,2,0,9,8,75]\n",
        "##### A. print(list1[1:7:2])\n",
        "##### B. print(list1[0:7:2])\n",
        "##### C. print(list1[1:8:2])\n",
        "##### D. print(list1[0:8:2])\n"
      ],
      "metadata": {
        "id": "Wk11aBHtE1VD"
      }
    },
    {
      "cell_type": "markdown",
      "source": [
        "####Answer- (C) print(list1[1:8:2])\n"
      ],
      "metadata": {
        "id": "1ALDczlLE8wi"
      }
    },
    {
      "cell_type": "markdown",
      "source": [
        "#### 10) The marks of a student on 6 subjects are stored in a list, list1=[80,66,94,87,99,95]. How can the student's average mark be calculated?\n",
        "##### A. print(avg(list1))\n",
        "##### B. print(sum(list1)/len(list1))\n",
        "##### C. print(sum(list1)/sizeof(list1))\n",
        "##### D. print(total(list1)/len(list1))"
      ],
      "metadata": {
        "id": "jrsNvcPMFC7F"
      }
    },
    {
      "cell_type": "markdown",
      "source": [
        "####Answer- (B) print(sum(list1)/len(list1))\n"
      ],
      "metadata": {
        "id": "Rn9rC8BSFLEP"
      }
    },
    {
      "cell_type": "markdown",
      "source": [
        "#### 11) What will be the output of following Python code?"
      ],
      "metadata": {
        "id": "MnQXnyLwFM6n"
      }
    },
    {
      "cell_type": "code",
      "source": [
        "# list1=[\"Python\",\"Java\",\"c\",\"C\",\"C++\"]\n",
        "\n",
        "# print(min(list1))\n"
      ],
      "metadata": {
        "id": "hPOD3IZ1FTnb"
      },
      "execution_count": null,
      "outputs": []
    },
    {
      "cell_type": "markdown",
      "source": [
        "####Options:-\n",
        "##### A. c\n",
        "##### B. C++\n",
        "##### C. C\n",
        "##### D. min function cannot be used on string elements"
      ],
      "metadata": {
        "id": "qeLU-pRiFXQW"
      }
    },
    {
      "cell_type": "markdown",
      "source": [
        "####Answer- (C) C"
      ],
      "metadata": {
        "id": "VsWlaDs5YN5x"
      }
    },
    {
      "cell_type": "markdown",
      "source": [
        "#### 12) The elements of a list are arranged in descending order. Which of the following two will give same outputs?\n",
        "\n",
        "#####    i. print(list_name.sort())\n",
        "#####    ii. print(max(list_name))\n",
        "#####    iii. print(list_name.reverse())\n",
        "#####    iv. print(list_name[-1])\n",
        "####Options:-\n",
        "##### A. i, ii\n",
        "##### B. i, iii\n",
        "##### C. ii, iii\n",
        "##### D. iii, iv"
      ],
      "metadata": {
        "id": "IgoslKJHFdpN"
      }
    },
    {
      "cell_type": "markdown",
      "source": [
        "####Answer- (B) i, iii\n"
      ],
      "metadata": {
        "id": "NputnC7cFuOd"
      }
    },
    {
      "cell_type": "markdown",
      "source": [
        "#### 13)  What will be the result after the execution of below Python code?"
      ],
      "metadata": {
        "id": "TiJ3JjG6FwYs"
      }
    },
    {
      "cell_type": "code",
      "source": [
        "# list1=[3,2,5,7,3,6]\n",
        "\n",
        "# list1.pop(3)\n",
        "\n",
        "# print(list1)\n"
      ],
      "metadata": {
        "id": "V05bhJm9F1YG"
      },
      "execution_count": null,
      "outputs": []
    },
    {
      "cell_type": "markdown",
      "source": [
        "####Options:-\n",
        "##### A. [3,2,5,3,6]\n",
        "##### B. [2,5,7,3,6]\n",
        "##### C. [2,5,7,6]\n",
        "##### D. [3,2,5,7,3,6]"
      ],
      "metadata": {
        "id": "87_moI3iF2-2"
      }
    },
    {
      "cell_type": "markdown",
      "source": [
        "####Answer- (A) [3,2,5,3,6]\n"
      ],
      "metadata": {
        "id": "pmVYKLWUF9ox"
      }
    },
    {
      "cell_type": "markdown",
      "source": [
        "#### 14) What will be the output of below Python code?"
      ],
      "metadata": {
        "id": "FkmskwkYGCVR"
      }
    },
    {
      "cell_type": "code",
      "source": [
        "# list1=[1,3,5,2,4,6,2]\n",
        "\n",
        "# list1.remove(2)\n",
        "\n",
        "# print(sum(list1))\n"
      ],
      "metadata": {
        "id": "moFG5RWqGHeK"
      },
      "execution_count": null,
      "outputs": []
    },
    {
      "cell_type": "markdown",
      "source": [
        "####Options:-\n",
        "##### A. 18\n",
        "##### B. 19\n",
        "##### C. 21\n",
        "##### D. 22"
      ],
      "metadata": {
        "id": "54yMfUGCGJRi"
      }
    },
    {
      "cell_type": "markdown",
      "source": [
        "####Answer- (C) 21\n"
      ],
      "metadata": {
        "id": "1Zdb9qrsGT70"
      }
    },
    {
      "cell_type": "markdown",
      "source": [
        "#### 15) What will be the output of below Python code?"
      ],
      "metadata": {
        "id": "yl4v9D-4GWKU"
      }
    },
    {
      "cell_type": "code",
      "source": [
        "# list1=[\"tom\",\"mary\",\"simon\"]\n",
        "\n",
        "# list1.insert(5,8)\n",
        "\n",
        "# print(list1)\n"
      ],
      "metadata": {
        "id": "hK5p4NtJGfQy"
      },
      "execution_count": null,
      "outputs": []
    },
    {
      "cell_type": "markdown",
      "source": [
        "####Options:-\n",
        "##### A. [\"tom\", \"mary\", \"simon\", 5]\n",
        "##### B. [\"tom\", \"mary\", \"simon\", 8]\n",
        "##### C. [8, \"tom\", \"mary\", \"simon\"]\n",
        "##### D. Error"
      ],
      "metadata": {
        "id": "hhpxqveKGh-9"
      }
    },
    {
      "cell_type": "markdown",
      "source": [
        "####Answer- (B) [\"tom\", \"mary\", \"simon\", 8]\n"
      ],
      "metadata": {
        "id": "WDDrQ65tGm_S"
      }
    },
    {
      "cell_type": "markdown",
      "source": [
        "#### 16) Which of the following creates a tuple?\n",
        "##### A. tuple1=(\"a\",\"b\")\n",
        "##### B. tuple1[2]=(\"a\",\"b\")\n",
        "##### C. tuple1=(5)*2\n",
        "##### D. None of the above"
      ],
      "metadata": {
        "id": "PaEhLgRAGo8W"
      }
    },
    {
      "cell_type": "markdown",
      "source": [
        "####Answer- (A) tuple1=(\"a\",\"b\")\n"
      ],
      "metadata": {
        "id": "gbTMCKzlGyR6"
      }
    },
    {
      "cell_type": "markdown",
      "source": [
        "#### 17) Choose the correct option with respect to Python.\n",
        "##### A. Both tuples and lists are immutable.\n",
        "##### B. Tuples are immutable while lists are mutable.\n",
        "##### C. Both tuples and lists are mutable.\n",
        "##### D. Tuples are mutable while lists are immutable."
      ],
      "metadata": {
        "id": "VTkT9AhCG0-O"
      }
    },
    {
      "cell_type": "markdown",
      "source": [
        "####Answer- (B) Tuples are immutable while lists are mutable.\n"
      ],
      "metadata": {
        "id": "yZ_IPZR4HAC1"
      }
    },
    {
      "cell_type": "markdown",
      "source": [
        "#### 18) Choose the correct option.\n",
        "##### A. In Python, a tuple can contain only integers as its elements.\n",
        "##### B. In Python, a tuple can contain only strings as its elements.\n",
        "##### C. In Python, a tuple can contain both integers and strings as its elements.\n",
        "##### D. In Python, a tuple can contain either string or integer but not both at a time."
      ],
      "metadata": {
        "id": "ZnzL0vKIHCFY"
      }
    },
    {
      "cell_type": "markdown",
      "source": [
        "####Answer- (C) In Pthon, a tuple can contain both integers and strings as its elements.\n"
      ],
      "metadata": {
        "id": "MQq6zVICHRx0"
      }
    },
    {
      "cell_type": "markdown",
      "source": [
        "#### 19) What will be the output of below Python code?\n"
      ],
      "metadata": {
        "id": "D2Yirp6MHV89"
      }
    },
    {
      "cell_type": "code",
      "source": [
        "# tuple1=(5,1,7,6,2)\n",
        "\n",
        "# tuple1.pop(2)\n",
        "\n",
        "# print(tuple1)\n"
      ],
      "metadata": {
        "id": "N-gt8g44LLBy"
      },
      "execution_count": null,
      "outputs": []
    },
    {
      "cell_type": "markdown",
      "source": [
        "####Options:-\n",
        "##### A. (5,1,6,2)\n",
        "##### B. (5,1,7,6)\n",
        "##### C. (5,1,7,6,2)\n",
        "##### D. Error\n"
      ],
      "metadata": {
        "id": "iefgkGoeLNub"
      }
    },
    {
      "cell_type": "markdown",
      "source": [
        "####Answer- (A) (5,1,6,2)\n"
      ],
      "metadata": {
        "id": "7nEYmdajLU_K"
      }
    },
    {
      "cell_type": "markdown",
      "source": [
        "#### 20) What will be the output of below Python code?\n"
      ],
      "metadata": {
        "id": "f_tClriELYjM"
      }
    },
    {
      "cell_type": "code",
      "source": [
        "# tuple1=(2,4,3)\n",
        "\n",
        "# tuple3=tuple1*2\n",
        "\n",
        "# print(tuple3)"
      ],
      "metadata": {
        "id": "xiXoonPRLd4w"
      },
      "execution_count": null,
      "outputs": []
    },
    {
      "cell_type": "markdown",
      "source": [
        "####Options:-\n",
        "##### A. (4,8,6)\n",
        "##### B. (2,4,3,2,4,3)\n",
        "##### C. (2,2,4,4,3,3)\n",
        "##### D. Error"
      ],
      "metadata": {
        "id": "o7KA_mxXLfv9"
      }
    },
    {
      "cell_type": "markdown",
      "source": [
        "####Answer- (B) (2,4,3,2,4,3)\n"
      ],
      "metadata": {
        "id": "e2dcb9_7LuUm"
      }
    },
    {
      "cell_type": "markdown",
      "source": [
        "#### 21) What will be the output of below Python code?"
      ],
      "metadata": {
        "id": "0Qfla2sDLxET"
      }
    },
    {
      "cell_type": "code",
      "source": [
        "# tupl=(\"annie\",\"hena\",\"sid\")\n",
        "\n",
        "# print(tupl[-3:0])"
      ],
      "metadata": {
        "id": "02XYGulbL31s"
      },
      "execution_count": null,
      "outputs": []
    },
    {
      "cell_type": "markdown",
      "source": [
        "####Options:-\n",
        "##### A. (\"annie\")\n",
        "##### B. ()\n",
        "##### C. None\n",
        "##### D. Error as slicing is not possible in tuple."
      ],
      "metadata": {
        "id": "TA8XuwcQL6Dz"
      }
    },
    {
      "cell_type": "markdown",
      "source": [
        "####Answer- (A) ()\n"
      ],
      "metadata": {
        "id": "ayP2RNPRMCcZ"
      }
    },
    {
      "cell_type": "markdown",
      "source": [
        "#### 22) Which of the following options will not result in an error when performed on tuples in Python where tupl=(5,2,7,0,3)?\n",
        "##### A. tupl[1]=2\n",
        "##### B. tupl.append(2)\n",
        "##### C. tupl1=tupl+tupl\n",
        "##### D. tupl.sort()"
      ],
      "metadata": {
        "id": "eSD9ndsEME1x"
      }
    },
    {
      "cell_type": "markdown",
      "source": [
        "####Answer- (C) tupl1=tupl+tupl\n"
      ],
      "metadata": {
        "id": "hIcGrAz1MSTg"
      }
    },
    {
      "cell_type": "markdown",
      "source": [
        "#### 23) What will be the output of below Python code?"
      ],
      "metadata": {
        "id": "OK_wt2uOMVYS"
      }
    },
    {
      "cell_type": "code",
      "source": [
        "# tupl=()\n",
        "\n",
        "# tupl1=tupl*2\n",
        "\n",
        "# print(len(tupl1))"
      ],
      "metadata": {
        "id": "p0_LmwyLMaZA"
      },
      "execution_count": null,
      "outputs": []
    },
    {
      "cell_type": "markdown",
      "source": [
        "####Options:-\n",
        "##### A. 0\n",
        "##### B. 2\n",
        "##### C. 1\n",
        "##### D. Error as tuple object has no attribute to len"
      ],
      "metadata": {
        "id": "F7B4lFrvMeFF"
      }
    },
    {
      "cell_type": "markdown",
      "source": [
        "####Answer- (A) 0\n"
      ],
      "metadata": {
        "id": "7sFt8iW2Mlc_"
      }
    },
    {
      "cell_type": "markdown",
      "source": [
        "#### 24) What will be the output of below Python code?"
      ],
      "metadata": {
        "id": "ug_lX_icMn9m"
      }
    },
    {
      "cell_type": "code",
      "source": [
        "# tupl=([2,3],\"abc\",0,9)\n",
        "\n",
        "# tupl[0][1]=1\n",
        "\n",
        "# print(tupl)"
      ],
      "metadata": {
        "id": "tbz99k0AMuXn"
      },
      "execution_count": null,
      "outputs": []
    },
    {
      "cell_type": "markdown",
      "source": [
        "####Options:-\n",
        "##### A. ([2,3],\"abc\",0,9)\n",
        "##### B. ([1,3],\"abc\",0,9)\n",
        "##### C. ([2,1],\"abc\",0,9)\n",
        "##### D. Error"
      ],
      "metadata": {
        "id": "cAKPyiiLMwOf"
      }
    },
    {
      "cell_type": "markdown",
      "source": [
        "####Answer- (C) ([2,1),\"abc\",0,9)\n",
        "\n"
      ],
      "metadata": {
        "id": "Jfnas7TdM2oo"
      }
    },
    {
      "cell_type": "markdown",
      "source": [
        "#### 25) Which of the following two Python codes will give same output?\n",
        "##### (i) print(tupl[:-1])\n",
        "##### (ii) print(tupl[0:5])\n",
        "##### (iii) print(tupl[0:4])\n",
        "##### (iv) print(tupl[-4:])\n",
        "#### If tupl=(5,3,1,9,0)\n",
        "##### A. i, ii\n",
        "##### B. ii, iv\n",
        "##### C. i, iv\n",
        "##### D. i, iii"
      ],
      "metadata": {
        "id": "5rnS17ssM45j"
      }
    },
    {
      "cell_type": "markdown",
      "source": [
        "####Answer- (D) i, iii\n"
      ],
      "metadata": {
        "id": "DR2wOiMTNJId"
      }
    }
  ]
}