{
  "nbformat": 4,
  "nbformat_minor": 0,
  "metadata": {
    "colab": {
      "provenance": []
    },
    "kernelspec": {
      "name": "python3",
      "display_name": "Python 3"
    },
    "language_info": {
      "name": "python"
    }
  },
  "cells": [
    {
      "cell_type": "markdown",
      "source": [
        "### #Question-1\n",
        "Program to find the Square root of a number."
      ],
      "metadata": {
        "id": "F4Wz2DYexfbV"
      }
    },
    {
      "cell_type": "code",
      "source": [
        "import math\n",
        "num = int(input(\"Enter a number \"))\n",
        "\n",
        "square_root = math.sqrt(num)\n",
        "\n",
        "print('The square root of a given number is = ', square_root)"
      ],
      "metadata": {
        "id": "OObQFlAYxlz-",
        "colab": {
          "base_uri": "https://localhost:8080/"
        },
        "outputId": "ef5585f9-61d3-42a5-a3b7-2df7543bb0ed"
      },
      "execution_count": null,
      "outputs": [
        {
          "output_type": "stream",
          "name": "stdout",
          "text": [
            "Enter a number 16\n",
            "The square root of a given number is =  4.0\n"
          ]
        }
      ]
    },
    {
      "cell_type": "markdown",
      "source": [
        "### #Question-2\n",
        "Program to find the area of rectangle."
      ],
      "metadata": {
        "id": "SsT6pHMhxnfl"
      }
    },
    {
      "cell_type": "code",
      "source": [
        "length = int(input(\"Enter the length of a rectangle:- \"))\n",
        "width = int(input(\"Enter the width of a rectangle:- \"))\n",
        "\n",
        "Area_of_rectangle = length * width\n",
        "\n",
        "print(\"Area of the rectangle is: \", Area_of_rectangle)"
      ],
      "metadata": {
        "id": "PGfm_cH6xuem",
        "colab": {
          "base_uri": "https://localhost:8080/"
        },
        "outputId": "3ce8a7ad-703f-4cae-d602-bf8fffb5e778"
      },
      "execution_count": null,
      "outputs": [
        {
          "output_type": "stream",
          "name": "stdout",
          "text": [
            "Enter the length of a rectangle:- 10\n",
            "Enter the width of a rectangle:- 5\n",
            "Area of the rectangle is:  50\n"
          ]
        }
      ]
    },
    {
      "cell_type": "markdown",
      "source": [
        "### #Question-3\n",
        "Program to calculate the area  and Perimeter of the Square."
      ],
      "metadata": {
        "id": "o3xfWcDixu7c"
      }
    },
    {
      "cell_type": "code",
      "source": [
        "side = int(input(\"Enter a number\"))\n",
        "\n",
        "print(\"The area of square is: \", side**2)\n",
        "\n",
        "print(\"The perimeter of square is: \", 4*side)"
      ],
      "metadata": {
        "id": "mSGeueG7xznS",
        "colab": {
          "base_uri": "https://localhost:8080/"
        },
        "outputId": "9fa92e18-66b2-4a25-c719-dedc680ce3a5"
      },
      "execution_count": null,
      "outputs": [
        {
          "output_type": "stream",
          "name": "stdout",
          "text": [
            "Enter a number15\n",
            "The area of square is:  225\n",
            "The perimeter of square is:  60\n"
          ]
        }
      ]
    },
    {
      "cell_type": "markdown",
      "source": [
        "### #Question-4\n",
        "program to Calculate Surface Volumn and Area of Cylinder."
      ],
      "metadata": {
        "id": "BLF4PxCZx0Hx"
      }
    },
    {
      "cell_type": "code",
      "source": [
        "import math\n",
        "pi = 22/7\n",
        "r = float(input(\"Enter the value of radius \"))\n",
        "h = float(input(\"Enter the value of height \"))\n",
        "\n",
        "#calculate the volume of a cylinder\n",
        "volume = math.pi*r**2*h\n",
        "print(\"The surface volumn of a cylinder is: \", volume)\n",
        "\n",
        "#calculate the surface area of a cylinder\n",
        "surface_area = (2*math.pi*r*h) + (math.pi*r**2)\n",
        "print(\"The surface area of a cylinder is: \", surface_area)"
      ],
      "metadata": {
        "id": "myn8a2Ghx8Qx",
        "colab": {
          "base_uri": "https://localhost:8080/"
        },
        "outputId": "88a2f1af-e584-4325-8582-853e47e63af3"
      },
      "execution_count": null,
      "outputs": [
        {
          "output_type": "stream",
          "name": "stdout",
          "text": [
            "Enter the value of radius 2\n",
            "Enter the value of height 3\n",
            "The surface volumn of a cylinder is:  37.69911184307752\n",
            "The surface area of a cylinder is:  50.26548245743669\n"
          ]
        }
      ]
    },
    {
      "cell_type": "markdown",
      "source": [
        "### #Question-5\n",
        "Program to swap the values of Two Variables."
      ],
      "metadata": {
        "id": "rEyW-RnQx8-Z"
      }
    },
    {
      "cell_type": "code",
      "source": [
        "First_no = int(input(\"Enter the value of first number: \"))\n",
        "Second_no = int(input(\"Enter the value of second number: \"))\n",
        "\n",
        "#Here, we use a third temporary variable for swapping\n",
        "#swapping concept\n",
        "\n",
        "temp = First_no\n",
        "First_no = Second_no\n",
        "Second_no = temp\n",
        "\n",
        "print(\"After swapping the values: \")\n",
        "print(\"First Number = \", First_no)\n",
        "print(\"Second Number = \", Second_no)"
      ],
      "metadata": {
        "id": "f_WvUydKyCfk",
        "colab": {
          "base_uri": "https://localhost:8080/"
        },
        "outputId": "99c665ef-3a8c-4e09-d147-c34d66873c60"
      },
      "execution_count": null,
      "outputs": [
        {
          "output_type": "stream",
          "name": "stdout",
          "text": [
            "Enter the value of first number: 12\n",
            "Enter the value of second number: 36\n",
            "After swapping the values: \n",
            "First Number =  36\n",
            "Second Number =  12\n"
          ]
        }
      ]
    },
    {
      "cell_type": "markdown",
      "source": [
        "### #Question-6\n",
        "Write Logical operators conditions with taking two variables."
      ],
      "metadata": {
        "id": "X-Y_q8miyCyh"
      }
    },
    {
      "cell_type": "code",
      "source": [
        "#Logical operators are logical OR, logical AND, logical NOT\n",
        "\n",
        "# 1) Logical OR\n",
        "\n",
        "x = int(input(\"Enter the value of x: \"))\n",
        "y = int(input(\"Enter the value of y: \"))\n",
        "\n",
        "if x==y or x<=y:\n",
        "  print(\"True\")\n",
        "\n",
        "else:\n",
        "  print(\"False\")\n",
        "\n",
        "# 2) Logical AND\n",
        "\n",
        "if x>y and y<=x:\n",
        "  print('True')\n",
        "\n",
        "else:\n",
        "  print('False')\n",
        "\n",
        "# 3) Logical Not\n",
        "\n",
        "if x==y:\n",
        "  print('Condition is true')\n",
        "else:\n",
        "  print('condition is false')"
      ],
      "metadata": {
        "id": "dCBreP0QyI9d",
        "colab": {
          "base_uri": "https://localhost:8080/"
        },
        "outputId": "0314809a-52ac-4962-d243-14f633e55fb1"
      },
      "execution_count": 1,
      "outputs": [
        {
          "output_type": "stream",
          "name": "stdout",
          "text": [
            "Enter the value of x: 3\n",
            "Enter the value of y: 4\n",
            "True\n",
            "False\n",
            "condition is false\n"
          ]
        }
      ]
    }
  ]
}